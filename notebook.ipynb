{
 "cells": [
  {
   "cell_type": "code",
   "execution_count": null,
   "metadata": {
    "collapsed": false
   },
   "outputs": [],
   "source": [
    "%matplotlib inline\n",
    "import matplotlib as mpl\n",
    "import matplotlib.pyplot as plt\n",
    "import numpy as np\n",
    "from scipy import integrate\n",
    "plt.rcParams.update({'font.size': 16, 'figure.figsize': [6.0, 5.0]})\n",
    "try:\n",
    "    workdir\n",
    "except NameError:\n",
    "    workdir=%pwd\n",
    "else:\n",
    "    %cd $workdir"
   ]
  },
  {
   "cell_type": "code",
   "execution_count": null,
   "metadata": {
    "collapsed": false
   },
   "outputs": [],
   "source": [
    "t, r = np.loadtxt('pullx_old.xvg', skiprows=15, unpack=True) # distance (nm)\n",
    "t, f = np.loadtxt('pullf_old.xvg', skiprows=15, unpack=True) # force (kJ/mol/nm)\n",
    "\n",
    "sort = np.argsort(r) # sort w. respect to distance\n",
    "r = r[sort]\n",
    "f = f[sort]\n",
    "t = t[sort]"
   ]
  },
  {
   "cell_type": "code",
   "execution_count": null,
   "metadata": {
    "collapsed": false
   },
   "outputs": [],
   "source": [
    "pmf = integrate.cumtrapz( f, r, initial=0 ) # integrate force\n",
    "pmf = pmf - pmf[ (r>10) & (r<11)].mean()    # shift pmf to zero at long separations\n",
    "pmf = pmf / 2.48                            # kJ/mol --> kT\n",
    "\n",
    "plt.plot( r, pmf )\n",
    "plt.xlabel('$R$ (nm)')\n",
    "plt.ylabel('PMF ($k_BT$)')\n",
    "plt.xlim(4.1, 5)\n",
    "plt.ylim(-5,4)\n",
    "\n",
    "print('PMF minimum =', pmf[r<6].min(), 'kT')"
   ]
  },
  {
   "cell_type": "code",
   "execution_count": null,
   "metadata": {
    "collapsed": false
   },
   "outputs": [],
   "source": [
    "%%bash -s \"$workdir\"\n",
    "cd $1\n",
    "# if different, copy custom gctit.cpp into faunus\n",
    "if ! cmp mc/twobody.cpp faunus/src/examples/twobody.cpp >/dev/null 2>&1\n",
    "then\n",
    "    cp mc/twobody.cpp faunus/src/examples/\n",
    "fi\n",
    "\n",
    "if [ ! -d \"faunus\" ]; then\n",
    "  git clone https://github.com/mlund/faunus.git\n",
    "  cd faunus\n",
    "  #git checkout dfdddf3\n",
    "else\n",
    "  cd faunus\n",
    "fi\n",
    "cmake . -DCMAKE_BUILD_TYPE=Release -DENABLE_APPROXMATH=on &>/dev/null\n",
    "make example_twobody -j\n",
    "cd $1"
   ]
  },
  {
   "cell_type": "code",
   "execution_count": null,
   "metadata": {
    "collapsed": false
   },
   "outputs": [],
   "source": [
    "import os.path, os, sys, json, shutil\n",
    "from pathlib import Path\n",
    "%cd $workdir/mc\n",
    "\n",
    "def mkinput():\n",
    "  d = {\n",
    "      \"energy\" : {\n",
    "        \"nonbonded\" : {\n",
    "          \"coulomb\" : { \"epsr\" : 78.7, \"ionicstrength\" : 0.1 }\n",
    "          },\n",
    "\n",
    "        \"cmconstrain\" : {\n",
    "          \"sphere1 sphere2\" : { \"mindist\": 0, \"maxdist\": 50 }\n",
    "          }\n",
    "        },\n",
    "\n",
    "      \"atomlist\" : {\n",
    "        \"UP\":  dict(q=0, sigma=3.0, eps=0.2479, mw=1e-3),\n",
    "        \"NP\":  dict(q=0, sigma=3.0, eps=0.2479, mw=1e-3),\n",
    "        \"PP\":  dict(q=0, sigma=3.0, eps=0.2479, mw=1e-3),\n",
    "        \"MP\":  dict(q=0, sigma=3.0, eps=0.2479, mw=1e6)\n",
    "          },\n",
    "\n",
    "      \"moleculelist\": {\n",
    "          \"sphere1\":  { \"structure\":\"sphere.xyz\", \"Ninit\":1, \"insdir\":\"0 0 1\", \"insoffset\":\"0 0 -20\"},\n",
    "          \"sphere2\":  { \"structure\":\"sphere.xyz\", \"Ninit\":1, \"insdir\":\"0 0 1\", \"insoffset\":\"0 0 20\"}\n",
    "          },\n",
    "\n",
    "      \"moves\" : {\n",
    "          \"moltransrot2body\" : {\n",
    "            \"sphere1\" : { \"dp\":3, \"dprot\":1, \"prob\":1.0 }, \n",
    "            \"sphere2\" : { \"dp\":3, \"dprot\":1, \"prob\":1.0 } \n",
    "            } \n",
    "          },\n",
    "      \"analysis\" : {\n",
    "        \"pqrfile\" : { \"file\": \"confout.pqr\"  },\n",
    "        \"statefile\" : { \"file\": \"state\" }\n",
    "          },\n",
    "\n",
    "      \"system\" : {\n",
    "          \"temperature\" : 298.15,\n",
    "          \"cylinder\" : { \"length\" : 400, \"radius\" : 200 },\n",
    "          \"mcloop\"   : { \"macro\" : 10, \"micro\" : 100000 }\n",
    "          }\n",
    "      }\n",
    "  with open('twobody.json', 'w+') as f:\n",
    "      f.write(json.dumps(d, indent=4))\n",
    "\n",
    "\n",
    "mkinput()\n",
    "\n",
    "#!rm -fR state\n",
    "!../faunus/src/examples/twobody"
   ]
  },
  {
   "cell_type": "code",
   "execution_count": null,
   "metadata": {
    "collapsed": false
   },
   "outputs": [],
   "source": [
    "%cd $workdir/mc\n",
    "rmc, g = np.loadtxt('rdf.dat', unpack=True)\n",
    "rmc = 0.1*rmc\n",
    "w = -np.log( g / g[rmc>4.8].mean() )\n",
    "\n",
    "plt.plot(rmc, w, label='faunus' )\n",
    "plt.plot(r, pmf, label='gromacs')\n",
    "plt.xlabel('$R$ (nm)')\n",
    "plt.ylabel('PMF ($k_BT$)')\n",
    "plt.xlim(4.1, 5)\n",
    "plt.ylim(-5.2,4)\n",
    "plt.legend(loc=0)\n",
    "\n",
    "print('PMF minimum =', w[rmc<6].min(), 'kT')"
   ]
  },
  {
   "cell_type": "markdown",
   "metadata": {
    "collapsed": true
   },
   "source": [
    "## OpenMM Molecular Dynamics Simulation\n",
    "\n",
    "In this section we use OpenMM to run a steered MD simulation where the two CPPM's are pulled towards each other using an external, harmonic potential.\n",
    "Done slowly, this enables us to sample the equilibrium force as a function of separation.\n",
    "We will lastly integrate the mean force to obtain the potential of mean force, PMF.\n",
    "\n",
    "Some details:\n",
    "\n",
    "- Gromacs topology and gro files are used to set up the force field in OpenMM\n",
    "- One CPPM is fixed in the box origo using an external potential\n",
    "- The other CPPM is bound to the first by a harmonic potential with an equilibrium\n",
    "  distance, $r_{eq}$ that varies over time.\n",
    "- Each CPPM has an atom in their COM name `MP`. This simplifies the pulling and force calculation.\n",
    "  \n",
    "Issues:\n",
    "- The Force reported fails to write the very last line where by it cannot be loaded. Just open `forces.dat` in\n",
    "  a text editor and delete the last line. Perhaps this is an issue of buffering that is not respected when\n",
    "  OpenMM terminates(?)"
   ]
  },
  {
   "cell_type": "code",
   "execution_count": 2,
   "metadata": {
    "collapsed": false
   },
   "outputs": [
    {
     "name": "stdout",
     "output_type": "stream",
     "text": [
      "[Errno 2] No such file or directory: '$workdir/clean'\n",
      "sed: system.pdb: No such file or directory\n"
     ]
    }
   ],
   "source": [
    "%cd -q $workdir/clean\n",
    "\n",
    "L=300.0  # cubic box side length (angstroms)\n",
    "\n",
    "PACKMOL_INPUT = \"\"\" \n",
    "tolerance 5.0\n",
    "filetype pdb\n",
    "output system.pdb\n",
    "structure sphere.pdb\n",
    "  number 2\n",
    "  inside cube 0. 0. 0. %f\n",
    "end structure\n",
    "\"\"\" % (L)\n",
    "\n",
    "!echo '$PACKMOL_INPUT' > packmol.inp\n",
    "!packmol < packmol.inp > /dev/null\n",
    "\n",
    "cryst = \"CRYST1%9.3f%9.3f%9.3f%7.2f%7.2f%7.2f P 1           1\" % (L,L,L,90,90,90)\n",
    "!sed '5s/.*/$cryst/' system.pdb > tmp.pdb ; mv tmp.pdb system.pdb"
   ]
  },
  {
   "cell_type": "code",
   "execution_count": 3,
   "metadata": {
    "collapsed": false
   },
   "outputs": [
    {
     "ename": "IndexError",
     "evalue": "index 0 is out of bounds for axis 0 with size 0",
     "output_type": "error",
     "traceback": [
      "\u001b[0;31m---------------------------------------------------------------------------\u001b[0m",
      "\u001b[0;31mIndexError\u001b[0m                                Traceback (most recent call last)",
      "\u001b[0;32m<ipython-input-3-f404937cec14>\u001b[0m in \u001b[0;36m<module>\u001b[0;34m()\u001b[0m\n\u001b[1;32m      1\u001b[0m \u001b[0;32mimport\u001b[0m \u001b[0mmdtraj\u001b[0m \u001b[0;32mas\u001b[0m \u001b[0mmd\u001b[0m\u001b[0;34m\u001b[0m\u001b[0m\n\u001b[0;32m----> 2\u001b[0;31m \u001b[0mmd\u001b[0m\u001b[0;34m.\u001b[0m\u001b[0mload\u001b[0m\u001b[0;34m(\u001b[0m\u001b[0;34m'system.pdb'\u001b[0m\u001b[0;34m)\u001b[0m\u001b[0;34m.\u001b[0m\u001b[0msave_gro\u001b[0m\u001b[0;34m(\u001b[0m\u001b[0;34m'system.gro'\u001b[0m\u001b[0;34m)\u001b[0m \u001b[0;31m# convert pdb -> gro\u001b[0m\u001b[0;34m\u001b[0m\u001b[0m\n\u001b[0m",
      "\u001b[0;32m/Users/mikael/miniconda3/lib/python3.5/site-packages/mdtraj/core/trajectory.py\u001b[0m in \u001b[0;36mload\u001b[0;34m(filename_or_filenames, discard_overlapping_frames, **kwargs)\u001b[0m\n\u001b[1;32m    426\u001b[0m         \u001b[0m_assert_files_or_dirs_exist\u001b[0m\u001b[0;34m(\u001b[0m\u001b[0mfilename_or_filenames\u001b[0m\u001b[0;34m)\u001b[0m\u001b[0;34m\u001b[0m\u001b[0m\n\u001b[1;32m    427\u001b[0m \u001b[0;34m\u001b[0m\u001b[0m\n\u001b[0;32m--> 428\u001b[0;31m     \u001b[0mvalue\u001b[0m \u001b[0;34m=\u001b[0m \u001b[0mloader\u001b[0m\u001b[0;34m(\u001b[0m\u001b[0mfilename\u001b[0m\u001b[0;34m,\u001b[0m \u001b[0;34m**\u001b[0m\u001b[0mkwargs\u001b[0m\u001b[0;34m)\u001b[0m\u001b[0;34m\u001b[0m\u001b[0m\n\u001b[0m\u001b[1;32m    429\u001b[0m     \u001b[0;32mreturn\u001b[0m \u001b[0mvalue\u001b[0m\u001b[0;34m\u001b[0m\u001b[0m\n\u001b[1;32m    430\u001b[0m \u001b[0;34m\u001b[0m\u001b[0m\n",
      "\u001b[0;32m/Users/mikael/miniconda3/lib/python3.5/site-packages/mdtraj/formats/pdb/pdbfile.py\u001b[0m in \u001b[0;36mload_pdb\u001b[0;34m(filename, stride, atom_indices, frame, no_boxchk, standard_names)\u001b[0m\n\u001b[1;32m    151\u001b[0m \u001b[0;34m\u001b[0m\u001b[0m\n\u001b[1;32m    152\u001b[0m     \u001b[0mfilename\u001b[0m \u001b[0;34m=\u001b[0m \u001b[0mstr\u001b[0m\u001b[0;34m(\u001b[0m\u001b[0mfilename\u001b[0m\u001b[0;34m)\u001b[0m\u001b[0;34m\u001b[0m\u001b[0m\n\u001b[0;32m--> 153\u001b[0;31m     \u001b[0;32mwith\u001b[0m \u001b[0mPDBTrajectoryFile\u001b[0m\u001b[0;34m(\u001b[0m\u001b[0mfilename\u001b[0m\u001b[0;34m,\u001b[0m \u001b[0mstandard_names\u001b[0m\u001b[0;34m=\u001b[0m\u001b[0mstandard_names\u001b[0m\u001b[0;34m)\u001b[0m \u001b[0;32mas\u001b[0m \u001b[0mf\u001b[0m\u001b[0;34m:\u001b[0m\u001b[0;34m\u001b[0m\u001b[0m\n\u001b[0m\u001b[1;32m    154\u001b[0m         \u001b[0matom_slice\u001b[0m \u001b[0;34m=\u001b[0m \u001b[0mslice\u001b[0m\u001b[0;34m(\u001b[0m\u001b[0;32mNone\u001b[0m\u001b[0;34m)\u001b[0m \u001b[0;32mif\u001b[0m \u001b[0matom_indices\u001b[0m \u001b[0;32mis\u001b[0m \u001b[0;32mNone\u001b[0m \u001b[0;32melse\u001b[0m \u001b[0matom_indices\u001b[0m\u001b[0;34m\u001b[0m\u001b[0m\n\u001b[1;32m    155\u001b[0m         \u001b[0;32mif\u001b[0m \u001b[0mframe\u001b[0m \u001b[0;32mis\u001b[0m \u001b[0;32mnot\u001b[0m \u001b[0;32mNone\u001b[0m\u001b[0;34m:\u001b[0m\u001b[0;34m\u001b[0m\u001b[0m\n",
      "\u001b[0;32m/Users/mikael/miniconda3/lib/python3.5/site-packages/mdtraj/formats/pdb/pdbfile.py\u001b[0m in \u001b[0;36m__init__\u001b[0;34m(self, filename, mode, force_overwrite, standard_names)\u001b[0m\n\u001b[1;32m    267\u001b[0m                 \u001b[0mself\u001b[0m\u001b[0;34m.\u001b[0m\u001b[0m_file\u001b[0m \u001b[0;34m=\u001b[0m \u001b[0mopen_maybe_zipped\u001b[0m\u001b[0;34m(\u001b[0m\u001b[0mfilename\u001b[0m\u001b[0;34m,\u001b[0m \u001b[0;34m'r'\u001b[0m\u001b[0;34m)\u001b[0m\u001b[0;34m\u001b[0m\u001b[0m\n\u001b[1;32m    268\u001b[0m \u001b[0;34m\u001b[0m\u001b[0m\n\u001b[0;32m--> 269\u001b[0;31m             \u001b[0mself\u001b[0m\u001b[0;34m.\u001b[0m\u001b[0m_read_models\u001b[0m\u001b[0;34m(\u001b[0m\u001b[0;34m)\u001b[0m\u001b[0;34m\u001b[0m\u001b[0m\n\u001b[0m\u001b[1;32m    270\u001b[0m         \u001b[0;32melif\u001b[0m \u001b[0mmode\u001b[0m \u001b[0;34m==\u001b[0m \u001b[0;34m'w'\u001b[0m\u001b[0;34m:\u001b[0m\u001b[0;34m\u001b[0m\u001b[0m\n\u001b[1;32m    271\u001b[0m             \u001b[0mself\u001b[0m\u001b[0;34m.\u001b[0m\u001b[0m_header_written\u001b[0m \u001b[0;34m=\u001b[0m \u001b[0;32mFalse\u001b[0m\u001b[0;34m\u001b[0m\u001b[0m\n",
      "\u001b[0;32m/Users/mikael/miniconda3/lib/python3.5/site-packages/mdtraj/formats/pdb/pdbfile.py\u001b[0m in \u001b[0;36m_read_models\u001b[0;34m(self)\u001b[0m\n\u001b[1;32m    555\u001b[0m         \u001b[0mself\u001b[0m\u001b[0;34m.\u001b[0m\u001b[0m_unitcell_angles\u001b[0m \u001b[0;34m=\u001b[0m \u001b[0mpdb\u001b[0m\u001b[0;34m.\u001b[0m\u001b[0mget_unit_cell_angles\u001b[0m\u001b[0;34m(\u001b[0m\u001b[0;34m)\u001b[0m\u001b[0;34m\u001b[0m\u001b[0m\n\u001b[1;32m    556\u001b[0m         \u001b[0mself\u001b[0m\u001b[0;34m.\u001b[0m\u001b[0m_topology\u001b[0m\u001b[0;34m.\u001b[0m\u001b[0mcreate_standard_bonds\u001b[0m\u001b[0;34m(\u001b[0m\u001b[0;34m)\u001b[0m\u001b[0;34m\u001b[0m\u001b[0m\n\u001b[0;32m--> 557\u001b[0;31m         \u001b[0mself\u001b[0m\u001b[0;34m.\u001b[0m\u001b[0m_topology\u001b[0m\u001b[0;34m.\u001b[0m\u001b[0mcreate_disulfide_bonds\u001b[0m\u001b[0;34m(\u001b[0m\u001b[0mself\u001b[0m\u001b[0;34m.\u001b[0m\u001b[0mpositions\u001b[0m\u001b[0;34m[\u001b[0m\u001b[0;36m0\u001b[0m\u001b[0;34m]\u001b[0m\u001b[0;34m)\u001b[0m\u001b[0;34m\u001b[0m\u001b[0m\n\u001b[0m\u001b[1;32m    558\u001b[0m \u001b[0;34m\u001b[0m\u001b[0m\n\u001b[1;32m    559\u001b[0m         \u001b[0;31m# Add bonds based on CONECT records.\u001b[0m\u001b[0;34m\u001b[0m\u001b[0;34m\u001b[0m\u001b[0m\n",
      "\u001b[0;31mIndexError\u001b[0m: index 0 is out of bounds for axis 0 with size 0"
     ]
    }
   ],
   "source": [
    "import mdtraj as md\n",
    "md.load('system.pdb').save_gro('system.gro') # convert pdb -> gro"
   ]
  },
  {
   "cell_type": "code",
   "execution_count": 1,
   "metadata": {
    "collapsed": false
   },
   "outputs": [
    {
     "ename": "FileNotFoundError",
     "evalue": "[Errno 2] No such file or directory: 'system.gro'",
     "output_type": "error",
     "traceback": [
      "\u001b[0;31m---------------------------------------------------------------------------\u001b[0m",
      "\u001b[0;31mFileNotFoundError\u001b[0m                         Traceback (most recent call last)",
      "\u001b[0;32m<ipython-input-1-1343defe28b4>\u001b[0m in \u001b[0;36m<module>\u001b[0;34m()\u001b[0m\n\u001b[1;32m      7\u001b[0m \u001b[0;32mfrom\u001b[0m \u001b[0mmath\u001b[0m \u001b[0;32mimport\u001b[0m \u001b[0mexp\u001b[0m\u001b[0;34m,\u001b[0m \u001b[0msqrt\u001b[0m\u001b[0;34m\u001b[0m\u001b[0m\n\u001b[1;32m      8\u001b[0m \u001b[0;34m\u001b[0m\u001b[0m\n\u001b[0;32m----> 9\u001b[0;31m \u001b[0mgro\u001b[0m \u001b[0;34m=\u001b[0m \u001b[0mGromacsGroFile\u001b[0m\u001b[0;34m(\u001b[0m\u001b[0;34m'system.gro'\u001b[0m\u001b[0;34m)\u001b[0m\u001b[0;34m\u001b[0m\u001b[0m\n\u001b[0m\u001b[1;32m     10\u001b[0m top = GromacsTopFile('topol.top', periodicBoxVectors=gro.getPeriodicBoxVectors(),\n\u001b[1;32m     11\u001b[0m                 includeDir='/opt/local/share/gromacs/top/')\n",
      "\u001b[0;32m/Users/mikael/miniconda3/lib/python3.5/site-packages/simtk/openmm/app/gromacsgrofile.py\u001b[0m in \u001b[0;36m__init__\u001b[0;34m(self, file)\u001b[0m\n\u001b[1;32m    130\u001b[0m         \u001b[0mln\u001b[0m       \u001b[0;34m=\u001b[0m \u001b[0;36m0\u001b[0m\u001b[0;34m\u001b[0m\u001b[0m\n\u001b[1;32m    131\u001b[0m         \u001b[0mframe\u001b[0m    \u001b[0;34m=\u001b[0m \u001b[0;36m0\u001b[0m\u001b[0;34m\u001b[0m\u001b[0m\n\u001b[0;32m--> 132\u001b[0;31m         \u001b[0;32mfor\u001b[0m \u001b[0mline\u001b[0m \u001b[0;32min\u001b[0m \u001b[0mopen\u001b[0m\u001b[0;34m(\u001b[0m\u001b[0mfile\u001b[0m\u001b[0;34m)\u001b[0m\u001b[0;34m:\u001b[0m\u001b[0;34m\u001b[0m\u001b[0m\n\u001b[0m\u001b[1;32m    133\u001b[0m             \u001b[0;32mif\u001b[0m \u001b[0mln\u001b[0m \u001b[0;34m==\u001b[0m \u001b[0;36m0\u001b[0m\u001b[0;34m:\u001b[0m\u001b[0;34m\u001b[0m\u001b[0m\n\u001b[1;32m    134\u001b[0m                 \u001b[0mcomms\u001b[0m\u001b[0;34m.\u001b[0m\u001b[0mappend\u001b[0m\u001b[0;34m(\u001b[0m\u001b[0mline\u001b[0m\u001b[0;34m.\u001b[0m\u001b[0mstrip\u001b[0m\u001b[0;34m(\u001b[0m\u001b[0;34m)\u001b[0m\u001b[0;34m)\u001b[0m\u001b[0;34m\u001b[0m\u001b[0m\n",
      "\u001b[0;31mFileNotFoundError\u001b[0m: [Errno 2] No such file or directory: 'system.gro'"
     ]
    }
   ],
   "source": [
    "import mdtraj as md\n",
    "import pickle\n",
    "from simtk.openmm.app import *\n",
    "from simtk.openmm import *\n",
    "from simtk.unit import *\n",
    "from sys import stdout\n",
    "from math import exp, sqrt\n",
    "\n",
    "gro = GromacsGroFile('system.gro')\n",
    "top = GromacsTopFile('topol.top', periodicBoxVectors=gro.getPeriodicBoxVectors(),\n",
    "                includeDir='/opt/local/share/gromacs/top/')\n",
    "\n",
    "system     = top.createSystem( nonbondedCutoff=1*nanometer, nonbondedMethod=NoCutoff )\n",
    "integrator = LangevinIntegrator( 300*kelvin, 1/picosecond, 0.002*picoseconds)\n",
    "platform   = Platform.getPlatformByName( 'OpenCL' )\n",
    "properties = {'OpenCLDeviceIndex': '0,1', 'OpenCLPrecision': 'mixed'}\n",
    "\n",
    "i=0\n",
    "for f in system.getForces():\n",
    "    if (type(f) == CMMotionRemover):   # remove COM motion remover\n",
    "        system.removeForce(i)\n",
    "    if type(f) == NonbondedForce:      # remove dispersion correction\n",
    "        f.setUseDispersionCorrection(False)\n",
    "    if type(f) == HarmonicBondForce:   # put constraints in another\n",
    "        f.setForceGroup(1)             # force group\n",
    "    i += 1\n",
    "\n",
    "t = md.load('conf.gro')\n",
    "\n",
    "class MeanForceReporter(object):\n",
    "    ''' Calculate mean force between two particle ranges\n",
    "    \n",
    "    This will calculate the mean force on particle index 1 and particle\n",
    "    index 2 along the COM-COM distance between the two particle sets.\n",
    "    Only forces in OpenMM force group 0 is used to calculate\n",
    "    the forces, hence the manual call to `getState()`. Periodic boundaries\n",
    "    and minimum image distances are *not* considered, so make sure molecules\n",
    "    are not wrapped, nor can the COM-COM distance be longer than half the\n",
    "    box length.\n",
    "    \n",
    "    Keyword arguments:\n",
    "    cm1    -- index of particle situated on mass center 1 (int)\n",
    "    cm2    -- index of particle situated on mass center 1 (int)\n",
    "    index1 -- particle index of group1 (list)\n",
    "    index2 -- particle index of group1 (list)\n",
    "    groups -- force groups to extract forces from (set)\n",
    "    reportInterval -- Steps between each sample (int)\n",
    "    '''\n",
    "    def __init__(self, cm1, cm2, index1, index2, groups, reportInterval):\n",
    "        self._reportInterval = reportInterval\n",
    "        self._cm1 = cm1\n",
    "        self._cm2 = cm2\n",
    "        self._index1 = index1\n",
    "        self._index2 = index2\n",
    "        self.mf1 = 0 # mean force on cm1 (kJ/mol/nm)\n",
    "        self.mf2 = 0 # mean force on cm2 (kj/mol/nm)\n",
    "        self.mR  = 0 # mean COM distance\n",
    "        self.cnt = 0 # number of samples\n",
    "        self.groups = groups\n",
    "\n",
    "    def describeNextReport(self, simulation):\n",
    "        steps = self._reportInterval - simulation.currentStep%self._reportInterval\n",
    "        return (steps, False, False, False, False)\n",
    "    \n",
    "    def clear(self):\n",
    "        '''Resets the mean force average'''\n",
    "        self.mf1=0\n",
    "        self.mf2=0\n",
    "        self.mR=0\n",
    "        self.cnt=0\n",
    "        \n",
    "    def meanforce(self):\n",
    "        '''Returns average meanforce along COM-COM vector (kJ/mol/nm)'''\n",
    "        return 0.5*(self.mf1+self.mf2) / self.cnt, self.mf1/self.cnt, self.mf2/self.cnt, self.mR/self.cnt\n",
    "\n",
    "    def report(self, simulation, state):\n",
    "        s = simulation.context.getState(getPositions=True, getForces=True, groups={0}) # system\n",
    "        f = s.getForces(asNumpy=True).value_in_unit(kilojoules/mole/nanometer) # forces\n",
    "        r = s.getPositions(asNumpy=True).value_in_unit(nanometer) # distances\n",
    "        R = r[ self._cm1 ] - r[ self._cm2 ] # COM-COM distance vector...\n",
    "        Rhat = R / np.linalg.norm(R)        # ...and scalar\n",
    "        self.mR  += np.linalg.norm(R)       # mean COM-COM distance\n",
    "        self.mf1 += np.inner( f[ self._index1 ],  Rhat).sum() # Mean force 1 along R\n",
    "        self.mf2 += np.inner( f[ self._index2 ], -Rhat).sum() # Mean force 2 along -R\n",
    "        self.cnt += 1 # number of samples since last call to clear()\n",
    "    \n",
    "# add harmonic bond between COMs\n",
    "cm = t.top.select('name MP').tolist() # particle index of the two COMs\n",
    "harmonic = HarmonicBondForce()\n",
    "harmonic.addBond( cm[0], cm[1], 12.0*nanometer, 10000*kilojoule_per_mole/nanometer**2 )\n",
    "harmonic.setForceGroup(2)\n",
    "system.addForce( harmonic )\n",
    "\n",
    "# fix COM of molecule 1 to origo\n",
    "freezeforce = CustomExternalForce('8000*r^2; r=sqrt((x-15)^2 + (y-15)^2 + (z-15)^2)')\n",
    "freezeforce.addParticle(cm[0], [])\n",
    "freezeforce.setForceGroup(2)\n",
    "system.addForce(freezeforce)\n",
    "\n",
    "# constrain CM1-CM2 to distance to max. 5 nm\n",
    "#sphereforce = CustomExternalForce('1000*max(0, (x-15)-5)^2')\n",
    "#system.addForce(sphereforce)\n",
    "#sphereforce.setForceGroup(2)\n",
    "#sphereforce.addParticle(cm[1], [])\n",
    "\n",
    "# constrain CM2 to line\n",
    "#lineforce = CustomExternalForce('8000*r^2; r=sqrt( (15-y)^2+(15-z)^2)')\n",
    "#system.addForce(lineforce)\n",
    "#lineforce.setForceGroup(2)\n",
    "#lineforce.addParticle(cm[1], [])\n",
    "\n",
    "system.getNumForces()\n",
    "for f in system.getForces():\n",
    "    print(type(f), 'force group =',f.getForceGroup())"
   ]
  },
  {
   "cell_type": "code",
   "execution_count": null,
   "metadata": {
    "collapsed": false
   },
   "outputs": [],
   "source": [
    "simulation = Simulation(top.topology, system, integrator, platform)\n",
    "simulation.context.setPositions(gro.positions)"
   ]
  },
  {
   "cell_type": "code",
   "execution_count": null,
   "metadata": {
    "collapsed": false
   },
   "outputs": [],
   "source": [
    "print('Minimization...')\n",
    "simulation.minimizeEnergy(ti) # minization\n",
    "pos = simulation.context.getState( getPositions=True ).getPositions()\n",
    "PDBFile.writeFile(simulation.topology, pos, open( 'minimized.pdb', 'w'))\n",
    "\n",
    "simulation.step(5000)       # pre-equilibration\n",
    "\n",
    "res1 = t.top.select('resid 0') # index of molecule 1\n",
    "res2 = t.top.select('resid 1') # index of molecule 2\n",
    "meanforce = MeanForceReporter( cm[0], cm[1], res1, res2, {0}, 50 )\n",
    "\n",
    "simulation.reporters.clear()\n",
    "#simulation.reporters.append( DCDReporter('output.dcd', 5000))\n",
    "#simulation.reporters.append( StateDataReporter(stdout, 5000, step=True, temperature=True) )\n",
    "simulation.reporters.append( meanforce )\n",
    "\n",
    "print('Distance scan...')\n",
    "\n",
    "rinterval=[4.1, 5.0] # distance range (nm)\n",
    "dr=0.01              # distance steps (nm)\n",
    "nsteps=1000           # steps per distance, 2 fs each\n",
    "\n",
    "_r = []\n",
    "_f = []\n",
    "\n",
    "for req in np.arange(rinterval[1], rinterval[0], -dr):\n",
    "    \n",
    "    # update spring eq. distance in context\n",
    "    harmonic.setBondParameters(0, cm[0], cm[1], req*nanometers, 10000*kilojoule_per_mole/nanometer**2)\n",
    "    harmonic.updateParametersInContext(simulation.context)\n",
    "\n",
    "    simulation.step( 500 )     # equilibration for new distance\n",
    "    meanforce.clear()          # clear mean force\n",
    "    simulation.step( nsteps )  # propagate and sample mean force\n",
    "\n",
    "    _r.append( req )\n",
    "    _f.append( meanforce.meanforce()[1] )\n",
    "    print(req, meanforce.meanforce())\n",
    "\n",
    "print('done.')"
   ]
  },
  {
   "cell_type": "code",
   "execution_count": null,
   "metadata": {
    "collapsed": false
   },
   "outputs": [],
   "source": [
    "%cd $workdir/mc\n",
    "rmc, g = np.loadtxt('rdf.dat', unpack=True)\n",
    "rmc = 0.1*rmc\n",
    "w = -np.log( g / g[rmc>4.75].mean() )\n",
    "\n",
    "pmf = integrate.cumtrapz( _f, _r, initial=0 ) # integrate force --> potential of mean force\n",
    "plt.plot(_r, -(pmf/2.5), 'bo', label='OpenMM (MD)')\n",
    "plt.plot(rmc, w, 'r-', label='Faunus (MC)', lw=2)\n",
    "plt.legend(loc=0, frameon=False)\n",
    "plt.xlim(4.15, 4.6)"
   ]
  },
  {
   "cell_type": "code",
   "execution_count": null,
   "metadata": {
    "collapsed": false
   },
   "outputs": [],
   "source": [
    "nb = system.getForces()[0]\n",
    "system."
   ]
  },
  {
   "cell_type": "code",
   "execution_count": null,
   "metadata": {
    "collapsed": false
   },
   "outputs": [],
   "source": [
    "f = simulation.context.getState(getPositions=True, getForces=True).getForces()\n",
    "f = f / (kilojoule_per_mole/nanometer)\n",
    "f = np.array(f)\n",
    "r = np.array([0.5, 2.0, 0.001])\n",
    "np.inner(f,r).shape\n",
    "np.inner(f,r).sum()\n",
    "\n",
    "s = 0.0\n",
    "for i in f:\n",
    "    s += np.dot(i,r)\n",
    "print(s, np.inner(f,r).sum())\n",
    "print( len(f[0:len(f)/2-1])  )\n",
    "print( len(f[len(f)/2:-1])  )\n",
    "f[[0,1,1]]"
   ]
  },
  {
   "cell_type": "code",
   "execution_count": null,
   "metadata": {
    "collapsed": false
   },
   "outputs": [],
   "source": [
    "%cd -q $workdir/clean\n",
    "steps = np.loadtxt('forces.dat', usecols=[0])\n",
    "r1    = np.loadtxt('forces.dat', usecols=[1,2,3])\n",
    "f1    = np.loadtxt('forces.dat', usecols=[4,5,6])\n",
    "r2    = np.loadtxt('forces.dat', usecols=[7,8,9] )\n",
    "f2    = np.loadtxt('forces.dat', usecols=[10,11,12])\n",
    "\n",
    "R = r1-r2                              # distance vector between particles\n",
    "Rnorm = np.linalg.norm(r1-r2, axis=1)  # scalar distance of R\n",
    "Rhat = R / Rnorm[:,None]               # R as unitvector\n",
    "MF1  = np.sum(f1*Rhat, axis=1)         # mean force on 1 in R direction\n",
    "MF2  = np.sum(f2*-Rhat, axis=1)        # mean force on 2 in -R direction\n",
    "MF   = 0.5*(MF1+MF2)                   # average mean force (kJ/mol/nanometers) as function of R\n",
    "\n",
    "s     = np.argsort(Rnorm)              # sort arrays w. respect to distance\n",
    "Rnorm = Rnorm[s]\n",
    "MF    = MF[s]\n",
    "MF1   = MF1[s]\n",
    "MF2   = MF2[s]\n",
    "\n",
    "# OpenMM result\n",
    "pmf = -integrate.cumtrapz( MF, Rnorm, initial=0 ) # integrate force --> potential of mean force\n",
    "plt.plot(Rnorm, (pmf/2.5), label='openmm')\n",
    "\n",
    "# MC result\n",
    "rmc, g = np.loadtxt('../mc/rdf.dat', unpack=True)\n",
    "rmc = 0.1*rmc\n",
    "w = -np.log( g / g[rmc>4.8].mean() )\n",
    "#plt.plot( rmc, w, label='faunus')"
   ]
  },
  {
   "cell_type": "code",
   "execution_count": null,
   "metadata": {
    "collapsed": true
   },
   "outputs": [],
   "source": []
  },
  {
   "cell_type": "code",
   "execution_count": null,
   "metadata": {
    "collapsed": false
   },
   "outputs": [],
   "source": [
    "plt.plot(Rnorm, (pmf/2.5), label='openmm')\n",
    "#plt.ylim(-10,10)\n",
    "rmc, g = np.loadtxt('../mc/rdf.dat', unpack=True)\n",
    "rmc = 0.1*rmc\n",
    "w = -np.log( g / g[rmc>4.8].mean() )\n",
    "plt.plot( rmc, w, label='faunus')"
   ]
  },
  {
   "cell_type": "code",
   "execution_count": null,
   "metadata": {
    "collapsed": false
   },
   "outputs": [],
   "source": [
    "r = np.linspace(0,5, 100)\n",
    "plt.plot(r, 100*np.maximum(0, r-2)**2)"
   ]
  },
  {
   "cell_type": "code",
   "execution_count": null,
   "metadata": {
    "collapsed": false
   },
   "outputs": [],
   "source": [
    "platform.getNumPlatforms()"
   ]
  },
  {
   "cell_type": "code",
   "execution_count": null,
   "metadata": {
    "collapsed": true
   },
   "outputs": [],
   "source": [
    "traj = md.load('output.dcd', top='last.pdb')"
   ]
  },
  {
   "cell_type": "code",
   "execution_count": null,
   "metadata": {
    "collapsed": false
   },
   "outputs": [],
   "source": [
    "#cm = traj.top.select('name MP')\n",
    "pairs = traj.top.select_pairs('name MP', 'name MP')\n",
    "d = md.compute_distances(traj, pairs, periodic=True)\n",
    "h = np.histogramdd(d, bins='auto' )\n",
    "h[1].shape, h[0].shape"
   ]
  },
  {
   "cell_type": "code",
   "execution_count": null,
   "metadata": {
    "collapsed": false
   },
   "outputs": [],
   "source": [
    "r = np.array([2,0,3])"
   ]
  },
  {
   "cell_type": "code",
   "execution_count": null,
   "metadata": {
    "collapsed": false
   },
   "outputs": [],
   "source": [
    "np.linalg.norm(r)"
   ]
  },
  {
   "cell_type": "code",
   "execution_count": null,
   "metadata": {
    "collapsed": false
   },
   "outputs": [],
   "source": [
    "from math import exp\n",
    "1/exp(4), exp(-4.)"
   ]
  },
  {
   "cell_type": "code",
   "execution_count": null,
   "metadata": {
    "collapsed": true
   },
   "outputs": [],
   "source": []
  }
 ],
 "metadata": {
  "anaconda-cloud": {},
  "kernelspec": {
   "display_name": "Python [conda root]",
   "language": "python",
   "name": "conda-root-py"
  },
  "language_info": {
   "codemirror_mode": {
    "name": "ipython",
    "version": 3
   },
   "file_extension": ".py",
   "mimetype": "text/x-python",
   "name": "python",
   "nbconvert_exporter": "python",
   "pygments_lexer": "ipython3",
   "version": "3.5.2"
  }
 },
 "nbformat": 4,
 "nbformat_minor": 1
}
