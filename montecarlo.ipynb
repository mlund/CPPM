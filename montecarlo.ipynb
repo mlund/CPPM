{
 "cells": [
  {
   "cell_type": "markdown",
   "metadata": {},
   "source": [
    "# Steering Patchy Particles using Multivalent Electrolytes\n",
    "\n",
    "_Alexei Abrikossov and Mikael Lund, March 2017_\n",
    "\n",
    "In this Notebook we setup Metropolis Monte Carlo (MC) simulations to calculate the interaction free energy between a pair of charged, patchy particles (CPPs) in 1:1, 1:3, and 3:1 electrolyte solution, as well as analyse their electrostatic energy in terms of a multipole decomposition. The notebook will generate all input for the simulations, submit the jobs to a slurm cluster (or run them locally), and finally plot potentials of mean force (PMF) as well as multipolar energies as a function of CPP-CPP mass center separation."
   ]
  },
  {
   "cell_type": "code",
   "execution_count": null,
   "metadata": {
    "collapsed": false
   },
   "outputs": [],
   "source": [
    "%matplotlib inline\n",
    "import matplotlib as mpl\n",
    "import matplotlib.pyplot as plt\n",
    "\n",
    "import numpy as np\n",
    "from scipy import integrate\n",
    "import pandas as pd\n",
    "import os.path, os, sys, json, shutil, glob\n",
    "from pathlib import Path\n",
    "import pickle\n",
    "from sys import stdout\n",
    "from math import exp, sqrt\n",
    "\n",
    "mpl.rcParams['text.latex.preamble']=[r\"\\usepackage{amsmath}\"]\n",
    "plt.rcParams.update({'font.size': 16, 'figure.figsize': [6.0, 5.0]})\n",
    "\n",
    "try:\n",
    "    workdir\n",
    "except NameError:\n",
    "    workdir=%pwd\n",
    "else:\n",
    "    %cd $workdir"
   ]
  },
  {
   "cell_type": "markdown",
   "metadata": {},
   "source": [
    "### Download and compile the MC software Faunus\n",
    "\n",
    "This downloads the MC package _Faunus_ from http://github.com/mlund/faunus, and compile a custom MC program, `twobody.cpp` found in the `mc/` folder. This will simulate CPPs and ions in a cylindrical container using a Coulomb + Weeks-Chandler-Andersen potential. Solvent is treated as a background dielectric and the model strongly resembles the primitive model of electrolytes, albeit with soft repulsion.\n",
    "\n",
    "**Note** that the GCC version specified below is merely for internal use and should be removed or adjusted to your specific setup. A compiler with full C++11 support is required, i.e. GCC (>=4.9), Clang, Intel."
   ]
  },
  {
   "cell_type": "code",
   "execution_count": null,
   "metadata": {
    "collapsed": false
   },
   "outputs": [],
   "source": [
    "%%bash -s \"$workdir\"\n",
    "module add GCC/6.2.0-2.27\n",
    "module add CMake\n",
    "cd $1\n",
    "\n",
    "if [ ! -d \"faunus\" ]; then\n",
    "  git clone https://github.com/mlund/faunus.git\n",
    "  cd faunus\n",
    "  git checkout tags/v1.0.0\n",
    "else\n",
    "  cd faunus\n",
    "fi\n",
    "\n",
    "CXX=/sw/easybuild/software/Core/GCCcore/6.2.0/bin/g++ CC=/sw/easybuild/software/Core/GCCcore/6.2.0/bin/gcc cmake . -DCMAKE_BUILD_TYPE=Release -DMYPLAYGROUND=$1/mc \n",
    "make twobody twobody-cuboid -j4\n",
    "cd $1"
   ]
  },
  {
   "cell_type": "markdown",
   "metadata": {},
   "source": [
    "### Function for generating JSON input file for Faunus\n",
    "\n",
    "The `moleculelist` keywords define the two CPPs (and later salt) and the insertion direction (`insdir`) and insertion offset (`insoffset`) combination ensures that they are inserted on the length axis ($z$) of the cylinder. Likewise, the translational/rotational move (`moltransrot2body`) ensures that only $z$ movement is performed.\n",
    "More detail about input parameters can be found in the code documentation for Faunus (http://github.com/mlund/faunus)."
   ]
  },
  {
   "cell_type": "code",
   "execution_count": null,
   "metadata": {
    "collapsed": false
   },
   "outputs": [],
   "source": [
    "import os.path, os, sys, json, shutil\n",
    "from pathlib import Path\n",
    "\n",
    "def mkinput(ions):\n",
    "    js = {\n",
    "          \"energy\" : {\n",
    "            \"nonbonded\" : {\n",
    "              \"coulomb\" : { \"epsr\" : 78.7 }\n",
    "            },\n",
    "            \"cmconstrain\" : {\n",
    "              \"0sphere 1sphere\" : { \"mindist\": 0, \"maxdist\": 99 }\n",
    "              }\n",
    "            },\n",
    "          \"atomlist\" : {\n",
    "            \"UP\":  dict(q=0,  sigma=4.0, eps=ljeps, mw=1e-3),\n",
    "            \"NP\":  dict(q=-1, sigma=4.0, eps=ljeps, mw=1e-3),\n",
    "            \"PP\":  dict(q=1,  sigma=4.0, eps=ljeps, mw=1e-3),\n",
    "            \"MP\":  dict(q=0,  sigma=40,  eps=ljeps, mw=1e6),\n",
    "            \"Na\":  dict(q=1,  sigma=4.0, eps=ljeps, mw=1e-3, dp=50),\n",
    "            \"La\":  dict(q=3,  sigma=1.0, eps=ljeps, mw=1e-3, dp=10),\n",
    "            \"PO4\": dict(q=-3, sigma=1.0, eps=ljeps, mw=1e-3, dp=10),\n",
    "            \"Cl\":  dict(q=-1, sigma=4.0, eps=ljeps, mw=1e-3, dp=50)\n",
    "              },\n",
    "          \"moleculelist\": {\n",
    "              \"0sphere\":  { \"structure\":xyzfile, \"Ninit\":1, \"insdir\":\"0 0 0\", \"insoffset\":\"0 0 \"+str(offset)},\n",
    "              \"1sphere\":  { \"structure\":xyzfile, \"Ninit\":1, \"insdir\":\"0 0 0\", \"insoffset\":\"0 0 -\"+str(offset)}\n",
    "              },\n",
    "          \"moves\" : {\n",
    "              \"moltransrot2body\" : {\n",
    "                \"0sphere\" : { \"dp\":dp, \"dprot\":0.5 }, \n",
    "                \"1sphere\" : { \"dp\":dp, \"dprot\":0.5 } \n",
    "                }\n",
    "          },\n",
    "          \"analysis\" : {\n",
    "            \"pqrfile\" :   { \"file\": \"confout.pqr\"  },\n",
    "            \"statefile\" : { \"file\": \"state\" },\n",
    "            \"xtcfile\" :   { \"file\": \"traj.xtc\", \"nstep\": nstep_xtc },\n",
    "            \"molrdf\" : { \"nstep\":5, \"pairs\" :\n",
    "                        [\n",
    "                              dict(file=\"rdf.dat\", dim=1, name1=\"0sphere\", name2=\"1sphere\", dr=0.1)\n",
    "                        ]\n",
    "                       },   \n",
    "            \"chargemultipole\" : {\"nstep\":1000, \"mollist\":[\"0sphere\", \"1sphere\"]},\n",
    "            \"multipoledistribution\" :\n",
    "                { \"file\": \"multipole.dat\", \"nstep\":10, \"groups\":[\"0sphere\", \"1sphere\"] }\n",
    "          },\n",
    "          \"system\" : {\n",
    "              \"temperature\" : 298.15,\n",
    "              \"geometry\" : { \"length\" : cyllen, \"radius\" : cylradius },\n",
    "              \"mcloop\"   : { \"macro\" : 10, \"micro\" : micro }\n",
    "              }\n",
    "          }\n",
    "    \n",
    "    for name, N in ions.items(): # add molecules for ions and add translational move\n",
    "        if N>0:\n",
    "            js['moleculelist'][name] = dict(Ninit=N, atomic=True, atoms=name)\n",
    "            if not 'atomtranslate' in js['moves']:\n",
    "                js['moves']['atomtranslate'] = {}\n",
    "            js['moves']['atomtranslate'][name] = dict(peratom=True)\n",
    "\n",
    "    with open('twobody.json', 'w+') as f:\n",
    "        f.write(json.dumps(js, indent=4))\n",
    "        \n",
    "def volume():\n",
    "    return np.pi*cylradius**2 * cyllen\n",
    "\n",
    "cylradius=55 # cylinder radius (angstrom)\n",
    "cyllen=200   # cylinder length (angstrom)\n",
    "ljeps=2.479  # LJ epsilon (kJ/mol)\n",
    "dp=5         # COM translational displacement parameter (angstrom)\n",
    "nstep_xtc=0  # frequency for saving frames to xtc trajectory file"
   ]
  },
  {
   "cell_type": "markdown",
   "metadata": {},
   "source": [
    "### Set up Parameter Space\n",
    "\n",
    "Here we define the CPPMs to simulate and which salt concentrations and valencies. The resulting Pandas object further contains information about labels used for plotting later on."
   ]
  },
  {
   "cell_type": "code",
   "execution_count": null,
   "metadata": {
    "collapsed": false,
    "scrolled": true
   },
   "outputs": [],
   "source": [
    "def M2N(molarity):\n",
    "    ''' Convert mol/l to nearest integer number of particles in cylinder '''\n",
    "    return int( round( molarity * volume() * 1e-27 * 6.022e23 ) )\n",
    "\n",
    "param = pd.DataFrame({\n",
    "    # P00 1:1 salt\n",
    "    'P00-1:1-10mM' :\n",
    "        dict(\n",
    "            charge=-8, xyzfile=workdir+'/mc/sphere-P00-reduced.xyz',\n",
    "            label=r'$P_0^0$ 10 mM 1:1', color='blue',\n",
    "            cs=0.010, ions = dict(Na=16+M2N(0.010), Cl=M2N(0.010)), ljeps=[2.479]\n",
    "        ),\n",
    "    'P00-1:1-100mM' :\n",
    "        dict(\n",
    "            charge=-8, xyzfile=workdir+'/mc/sphere-P00-reduced.xyz',\n",
    "            label=r'$P_0^0$ 100 mM 1:1', color='blue',\n",
    "            cs=0.1, ions = dict(Na=16+M2N(0.1), Cl=M2N(0.1)), ljeps=[2.479]\n",
    "        ),\n",
    "    # P00 3:1 salt\n",
    "    'P00-3:1-5mM' :\n",
    "        dict(\n",
    "            charge=-8, xyzfile=workdir+'/mc/sphere-P00-reduced.xyz',\n",
    "            label=r'$P_0^0$ 5 mM 3:1', color='blue',\n",
    "            cs=0.005, ions = dict(Na=16, La=M2N(0.005), Cl=3*M2N(0.005)), ljeps=[2.479]\n",
    "        ),\n",
    "    # P00 1:3 salt\n",
    "    'P00-1:3-5mM' :\n",
    "        dict(\n",
    "            charge=-8, xyzfile=workdir+'/mc/sphere-P00-reduced.xyz',\n",
    "            label=r'$P_0^0$ 5 mM 1:3', color='blue',\n",
    "            cs=0.005, ions = dict(PO4=M2N(0.005), Na=16+3*M2N(0.005)), ljeps=[2.479]\n",
    "        ),\n",
    "    # P18 1:1 salt\n",
    "    'P18-1:1-10mM' :\n",
    "        dict(\n",
    "            charge=-8, xyzfile=workdir+'/mc/sphere-P18-reduced.xyz',\n",
    "            label=r'$P_8^1$ 10 mM 1:1', color='blue',\n",
    "            cs=0.010, ions = dict(Na=16+M2N(0.010), Cl=M2N(0.010)), ljeps=[2.479]\n",
    "        ),\n",
    "    'P18-1:1-10mM-point' :\n",
    "        dict(\n",
    "            charge=-8, xyzfile=workdir+'/mc/sphere-P18-point.aam',\n",
    "            label=r'$\\tilde{P}_8^1$ 10 mM 1:1', color='blue',\n",
    "            cs=0.010, ions = dict(Na=16+M2N(0.010), Cl=M2N(0.010)), ljeps=[2.479]\n",
    "        ),\n",
    "    'P18-1:1-100mM' :\n",
    "        dict(\n",
    "            charge=-8, xyzfile=workdir+'/mc/sphere-P18-reduced.xyz',\n",
    "            label=r'$P_8^1$ 100 mM 1:1', color='blue',\n",
    "            cs=0.1, ions = dict(Na=16+M2N(0.1), Cl=M2N(0.1)), ljeps=[2.479]\n",
    "        ),\n",
    "    'P18-1:1-100mM-point' :\n",
    "        dict(\n",
    "            charge=-8, xyzfile=workdir+'/mc/sphere-P18-point.aam',\n",
    "            label=r'$\\tilde{P}_8^1$ 100 mM 1:1', color='blue',\n",
    "            cs=0.10, ions = dict(Na=16+M2N(0.10), Cl=M2N(0.10)), ljeps=[2.479]\n",
    "        ),\n",
    "    # P18 3:1 salt\n",
    "    'P18-3:1-5mM' :\n",
    "        dict(\n",
    "            charge=-8, xyzfile=workdir+'/mc/sphere-P18-reduced.xyz',\n",
    "            label=r'$P_8^1$ 5 mM 3:1', color='blue',\n",
    "            cs=0.005, ions = dict(Na=16, La=M2N(0.005), Cl=3*M2N(0.005)), ljeps=[2.479]\n",
    "        ),\n",
    "    # P18 1:3 salt (i.e. Na3PO4)\n",
    "    'P18-1:3-5mM' :\n",
    "        dict(\n",
    "            charge=-8, xyzfile=workdir+'/mc/sphere-P18-reduced.xyz',\n",
    "            label=r'$P_8^1$ 5 mM 1:3', color='blue',\n",
    "            cs=0.005, ions = dict(PO4=M2N(0.005), Na=16+3*M2N(0.005)), ljeps=[2.479]\n",
    "        )\n",
    "    })\n",
    "\n",
    "param.T"
   ]
  },
  {
   "cell_type": "markdown",
   "metadata": {},
   "source": [
    "## Potential of mean force from histogram method\n",
    "\n",
    "We first calculate the potential of mean force between two neutral spheres by simply sampling the COM-COM distance probability distribution, followed by Boltzmann inversion.\n",
    "The COM's of the two macromolecules are able to translate along a line which coinsides with the axis of a cylindrical simulation cell with hard boundaries. During simulation, the molecules further rotate around their mass centers. Since the molecules in this way are constrained on a line, there is no need to correct for the increasing volume element normally needed for simulations in free space. In the Faunus input file, this is controlled by the `dim=1` keyword in the `molrdf` section."
   ]
  },
  {
   "cell_type": "code",
   "execution_count": null,
   "metadata": {
    "collapsed": false
   },
   "outputs": [],
   "source": [
    "%%writefile $workdir/mc/submit.sh\n",
    "#!/bin/bash\n",
    "\n",
    "# This is a submit file, should you be using a cluster. Ignore this if running locally.\n",
    "\n",
    "#SBATCH -A snic2017-1-48\n",
    "#SBATCH -N 1\n",
    "#SBATCH -n 1\n",
    "#SBATCH -t 40:00:00\n",
    "../twobody > out"
   ]
  },
  {
   "cell_type": "code",
   "execution_count": null,
   "metadata": {
    "collapsed": false
   },
   "outputs": [],
   "source": [
    "%%bash\n",
    "# kill all jobs\n",
    "scancel `squeue -h | grep mikael | gawk '{print $1}'`"
   ]
  },
  {
   "cell_type": "code",
   "execution_count": null,
   "metadata": {
    "collapsed": false
   },
   "outputs": [],
   "source": [
    "%cd -q $workdir/mc\n",
    "for directory, d in param.items():\n",
    "    for eps in d.ljeps: # loop over LJ epsilon values (we just have one)\n",
    "        ljeps = eps\n",
    "        ionstr = ''\n",
    "        for ion, N in d.ions.items(): # salt particles\n",
    "            ionstr = ion+str(N) + ionstr\n",
    "        if not os.path.isdir(directory):\n",
    "            %mkdir $directory\n",
    "        if os.path.isdir(directory):\n",
    "            %cd $directory\n",
    "            if not os.path.isfile('out'):\n",
    "                xyzfile=d.xyzfile\n",
    "                nstep_xtc=0                   # interval to save xtc file (0=never)\n",
    "                offset=50/2.0                 # COM offset from origo (center of container)\n",
    "                micro=1000                    # number of micro steps (equilibration)\n",
    "                mkinput( d.ions )             # make json input file for faunus\n",
    "\n",
    "                !rm -fR state                 # make sure there's no old state (restart) file\n",
    "                !nice ../twobody &> eq        # eq. run\n",
    "\n",
    "                micro=10000000                # number of micro steps for production\n",
    "                mkinput( d.ions )\n",
    "\n",
    "                if shutil.which('sbatch') is not None: # run on slurm cluster...\n",
    "                    !sbatch ../submit.sh\n",
    "                else:                                  # ...or locally (slow) ?\n",
    "                    !../twobody > out\n",
    "\n",
    "            %cd -q ..\n",
    "print('done.')"
   ]
  },
  {
   "cell_type": "markdown",
   "metadata": {},
   "source": [
    "### Multipole Decomposition\n",
    "\n",
    "As a function of mass center separation, we plot mulitipolar electrostatic energies between pairs of CPPs.\n",
    "The analysis is done on the fly during MC simulation and controlled by the `multipoledistribution` section in the JSON input file. More information about this analysis can be found in the code documentation for Faunus, see http://github.com/mlund/faunus.\n"
   ]
  },
  {
   "cell_type": "code",
   "execution_count": null,
   "metadata": {
    "collapsed": false
   },
   "outputs": [],
   "source": [
    "%cd -q $workdir/mc\n",
    "\n",
    "from matplotlib.ticker import AutoMinorLocator\n",
    "def plotmultipole(data, ax, xlim):\n",
    "    for directory, d in data.items():\n",
    "        ionstr = ''\n",
    "        for ion, N in d.ions.items(): # loop over all ion conditions\n",
    "            ionstr = ion+str(N) + ionstr\n",
    "\n",
    "        if os.path.isdir(directory):\n",
    "            %cd -q $directory\n",
    "            if os.path.isfile('multipole.dat'):\n",
    "                r,exact,total,ionion,iondip,dipdip,ionquad, mucorr= np.loadtxt('multipole.dat', unpack=True, skiprows=2)\n",
    "                ax.plot(r, exact, 'ko', alpha=0.6, ms=4, label='exact', markevery=4)\n",
    "                ax.plot(r, total, 'k-', lw=2, label='multipole sum')\n",
    "                ax.plot(r, ionion, lw=2, label='ion-ion')\n",
    "                ax.plot(r, iondip, lw=2, label='ion-dipole')\n",
    "                ax.plot(r, dipdip, lw=2, label='dipole-dipole')\n",
    "                ax.plot(r, ionquad, lw=2, label='ion-quadrupole')\n",
    "                #ax.plot(r, mucorr*10, '--', lw=2, ms=4, alpha=0.6, label=r'$10\\cdot\\langle \\mu_1\\mu_2\\rangle$')\n",
    "                \n",
    "                ax.set_title(d.label, verticalalignment='bottom')\n",
    "\n",
    "            %cd -q ..\n",
    "\n",
    "    ax.set_xlabel(r'$R$ (Å)')\n",
    "    ax.set_ylabel(r'Electrostatic energy ($k_BT$)')\n",
    "    ax.set_xlim(xlim)\n",
    "    ax.set_ylim(-5.3,14)"
   ]
  },
  {
   "cell_type": "code",
   "execution_count": null,
   "metadata": {
    "collapsed": false,
    "scrolled": false
   },
   "outputs": [],
   "source": [
    "f, (ax1, ax2) = plt.subplots(1, 2, sharey=True)\n",
    "f.set_figheight(6.5)\n",
    "f.set_figwidth(9)\n",
    "plotmultipole(param[['P18-1:1-10mM']], ax=ax1, xlim=[40,80] )\n",
    "plotmultipole(param[['P18-1:1-10mM-point']], ax=ax2, xlim=[40,80] )\n",
    "ax2.legend(loc=0, frameon=True, fontsize='small', ncol=1)\n",
    "ax2.set_ylabel('')\n",
    "f.subplots_adjust(wspace=0.1)\n",
    "\n",
    "plt.savefig('multipol-monovalent.pdf', bbox_inches='tight')"
   ]
  },
  {
   "cell_type": "code",
   "execution_count": null,
   "metadata": {
    "collapsed": false
   },
   "outputs": [],
   "source": [
    "f, (ax1, ax2) = plt.subplots(1, 2, sharey=True)\n",
    "f.set_figheight(5.6)\n",
    "f.set_figwidth(9)\n",
    "plotmultipole(param[['P18-3:1-5mM']], ax=ax1, xlim=[40,80] )\n",
    "plotmultipole(param[['P18-1:3-5mM']], ax=ax2, xlim=[40,80] )\n",
    "ax2.legend(loc=0, frameon=True, fontsize='small', ncol=1)\n",
    "ax2.set_ylabel('')\n",
    "f.subplots_adjust(wspace=0.1)\n",
    "\n",
    "plt.savefig('multipol-trivalent.pdf', bbox_inches='tight')"
   ]
  },
  {
   "cell_type": "markdown",
   "metadata": {},
   "source": [
    "### Plot Potential of Mean Force"
   ]
  },
  {
   "cell_type": "code",
   "execution_count": null,
   "metadata": {
    "collapsed": false
   },
   "outputs": [],
   "source": [
    "%cd -q $workdir/mc\n",
    "def plotpmf(data, xlim, ax, shift=0):\n",
    "    for directory, d in data.items():\n",
    "        ionstr = ''\n",
    "        for ion, N in d.ions.items(): # loop over all ion conditions\n",
    "            ionstr = ion+str(N) + ionstr\n",
    "\n",
    "        if os.path.isdir(directory):\n",
    "            %cd -q $directory\n",
    "\n",
    "            if os.path.isfile('rdf.dat'):\n",
    "                r, g = np.loadtxt('rdf.dat', unpack=True)\n",
    "                g = g / g[r>80].mean() # g(r)->1 for large r (our reference state)\n",
    "                ax.plot(r, -np.log(g)+shift, label=d.label, lw=2)#, color=d.color)\n",
    "\n",
    "            %cd -q ..\n",
    "\n",
    "    ax.set_xlabel('$R$ (Å)')\n",
    "    ax.set_ylabel('PMF ($k_BT$)')\n",
    "    ax.set_xlim(xlim)\n",
    "    ax.set_ylim((-4,8.5))\n",
    "\n",
    "f, (ax1, ax2) = plt.subplots(1, 2, sharey=True)\n",
    "f.set_figwidth(7)\n",
    "f.set_figheight(3.5)\n",
    "\n",
    "# Debye-Huckel\n",
    "from math import sinh\n",
    "r=np.linspace(40,70,20)\n",
    "a=22.0 # radius, central+ion (angstrom)\n",
    "\n",
    "# 10 mM\n",
    "D=3.04/sqrt(0.01)\n",
    "QQ = (8*sinh(a/D) / (a/D))**2\n",
    "ax1.plot( r, 7*QQ/r*np.exp(-r/D), 'bo', alpha=0.5, label=u'Debye-Hückel')\n",
    "\n",
    "# 100 mM\n",
    "D=3.04/sqrt(0.1)\n",
    "QQ = (8*sinh(a/D) / (a/D))**2\n",
    "ax2.plot( r, 7*QQ/r*np.exp(-r/D), 'bo', alpha=0.5, label=u'Debye-Hückel')\n",
    "\n",
    "plotpmf(param[['P00-1:1-10mM', 'P18-1:1-10mM', 'P18-1:1-10mM-point']],  ax=ax1, xlim=[40,70], shift=0.28 )\n",
    "plotpmf(param[['P00-1:1-100mM','P18-1:1-100mM','P18-1:1-100mM-point']], ax=ax2, xlim=[40,70] )\n",
    "\n",
    "ax1.legend(loc=0, frameon=False, fontsize='small', ncol=1)\n",
    "ax2.legend(loc=0, frameon=False, fontsize='small', ncol=1)\n",
    "ax2.set_ylabel('')\n",
    "f.subplots_adjust(wspace=0.12)\n",
    "\n",
    "plt.savefig('pmf-monovalent.pdf', bbox_inches='tight')"
   ]
  },
  {
   "cell_type": "code",
   "execution_count": null,
   "metadata": {
    "collapsed": false
   },
   "outputs": [],
   "source": [
    "f, (ax1, ax2) = plt.subplots(1, 2, sharey=True)\n",
    "f.set_figwidth(7)\n",
    "f.set_figheight(3.5)\n",
    "\n",
    "plotpmf(param[['P00-1:1-10mM', 'P00-1:3-5mM', 'P00-3:1-5mM']], ax=ax1, xlim=[40,70] )\n",
    "plotpmf(param[['P18-1:1-10mM', 'P18-1:3-5mM', 'P18-3:1-5mM']], ax=ax2, xlim=[40,70] )\n",
    "\n",
    "ax1.legend(loc=0, frameon=False, fontsize='small')\n",
    "ax2.legend(loc=0, frameon=False, fontsize='small')\n",
    "ax2.set_ylabel('')\n",
    "\n",
    "f.subplots_adjust(wspace=0.15)\n",
    "\n",
    "plt.savefig('pmf-trivalent.pdf', bbox_inches='tight')"
   ]
  },
  {
   "cell_type": "code",
   "execution_count": null,
   "metadata": {
    "collapsed": true
   },
   "outputs": [],
   "source": []
  }
 ],
 "metadata": {
  "anaconda-cloud": {},
  "kernelspec": {
   "display_name": "Python [conda root]",
   "language": "python",
   "name": "conda-root-py"
  },
  "language_info": {
   "codemirror_mode": {
    "name": "ipython",
    "version": 3
   },
   "file_extension": ".py",
   "mimetype": "text/x-python",
   "name": "python",
   "nbconvert_exporter": "python",
   "pygments_lexer": "ipython3",
   "version": "3.5.2"
  }
 },
 "nbformat": 4,
 "nbformat_minor": 1
}
