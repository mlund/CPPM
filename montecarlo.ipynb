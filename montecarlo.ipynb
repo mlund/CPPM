{
 "cells": [
  {
   "cell_type": "markdown",
   "metadata": {},
   "source": [
    "# Charged Patchy Particle Model\n",
    "_Alexei Abrikossov and Mikael Lund, December 2016_\n",
    "\n",
    "In this Notebook we setup an MC simulation to calculate the interaction free energy between a pair\n",
    "of CPPM's."
   ]
  },
  {
   "cell_type": "code",
   "execution_count": null,
   "metadata": {
    "collapsed": false
   },
   "outputs": [],
   "source": [
    "%matplotlib inline\n",
    "import matplotlib as mpl\n",
    "import matplotlib.pyplot as plt\n",
    "\n",
    "import numpy as np\n",
    "from scipy import integrate\n",
    "import pandas as pd\n",
    "import os.path, os, sys, json, shutil\n",
    "from pathlib import Path\n",
    "import pickle\n",
    "from sys import stdout\n",
    "from math import exp, sqrt\n",
    "import mdtraj as md\n",
    "\n",
    "plt.rcParams.update({'font.size': 16, 'figure.figsize': [6.0, 5.0]})\n",
    "try:\n",
    "    workdir\n",
    "except NameError:\n",
    "    workdir=%pwd\n",
    "else:\n",
    "    %cd $workdir"
   ]
  },
  {
   "cell_type": "markdown",
   "metadata": {},
   "source": [
    "### Download and compile the MC software Faunus"
   ]
  },
  {
   "cell_type": "code",
   "execution_count": null,
   "metadata": {
    "collapsed": false
   },
   "outputs": [],
   "source": [
    "%%bash -s \"$workdir\"\n",
    "cd $1\n",
    "# if different, copy custom gctit.cpp into faunus\n",
    "if ! cmp mc/twobody.cpp faunus/src/examples/twobody.cpp >/dev/null 2>&1\n",
    "then\n",
    "    cp mc/twobody.cpp faunus/src/examples/\n",
    "fi\n",
    "\n",
    "if [ ! -d \"faunus\" ]; then\n",
    "  git clone https://github.com/mlund/faunus.git\n",
    "  cd faunus\n",
    "  git checkout 47910f92f1acbc5b4dd6815c533e868f2a4478a7\n",
    "else\n",
    "  cd faunus\n",
    "fi\n",
    "CXX=g++-mp-5 CC=gcc-mp-5 cmake . -DCMAKE_BUILD_TYPE=Release -DENABLE_APPROXMATH=on -DENABLE_OPENMP=on &>/dev/null\n",
    "make example_twobody -j\n",
    "cd $1"
   ]
  },
  {
   "cell_type": "markdown",
   "metadata": {},
   "source": [
    "### Function for generating JSON input file for Faunus"
   ]
  },
  {
   "cell_type": "code",
   "execution_count": null,
   "metadata": {
    "collapsed": false
   },
   "outputs": [],
   "source": [
    "import os.path, os, sys, json, shutil\n",
    "from pathlib import Path\n",
    "\n",
    "def mkinput(ions):\n",
    "    js = {\n",
    "          \"energy\" : {\n",
    "            \"nonbonded\" : {\n",
    "              \"coulomb\" : { \"epsr\" : 78.7, \"ionicstrength\" : 0.1 },\n",
    "              \"lj\" : {\n",
    "                    \"custom\" : {\n",
    "                        \"MP Na\": dict(sigma=(40+2)/2.0, eps=0.01*2.5),\n",
    "                        \"MP La\": dict(sigma=(40+2)/2.0, eps=0.01*2.5),\n",
    "                        \"MP Cl\": dict(sigma=(40+2)/2.0, eps=0.01*2.5)\n",
    "                      }\n",
    "                    }\n",
    "            },\n",
    "\n",
    "            \"cmconstrain\" : {\n",
    "              \"sphere1 sphere2\" : { \"mindist\": 0, \"maxdist\": maxdist }\n",
    "              }\n",
    "            },\n",
    "\n",
    "          \"atomlist\" : {\n",
    "            \"UP\":  dict(q=0,  sigma=3.0, eps=0.2479, mw=1e-3),\n",
    "            \"NP\":  dict(q=-1, sigma=3.0, eps=0.2479, mw=1e-3),\n",
    "            \"PP\":  dict(q=1,  sigma=3.0, eps=0.2479, mw=1e-3),\n",
    "            \"MP\":  dict(q=0,  sigma=40,  eps=0,      mw=1e6),\n",
    "            \"Na\":  dict(q=1,  sigma=2.0, eps=0.2479, mw=1e-3, dp=50),\n",
    "            \"La\":  dict(q=3,  sigma=2.0, eps=0.2479, mw=1e-3, dp=20),\n",
    "            \"Cl\":  dict(q=-0, sigma=2.0, eps=0.2479, mw=1e-3, dp=50)\n",
    "              },\n",
    "\n",
    "          \"moleculelist\": {\n",
    "              \"0sphere\":  { \"structure\":xyzfile, \"Ninit\":1, \"insdir\":\"0 0 0\", \"insoffset\":\"0 0 \"+str(offset)},\n",
    "              \"1sphere\":  { \"structure\":xyzfile, \"Ninit\":1, \"insdir\":\"0 0 0\", \"insoffset\":\"0 0 -\"+str(offset)}\n",
    "              },\n",
    "\n",
    "          \"moves\" : {\n",
    "              \"moltransrot2body\" : {\n",
    "                \"0sphere\" : { \"dp\":dp, \"dprot\":1 }, \n",
    "                \"1sphere\" : { \"dp\":dp, \"dprot\":1 } \n",
    "                }\n",
    "          },\n",
    "          \"analysis\" : {\n",
    "            \"pqrfile\" : { \"file\": \"confout.pqr\"  },\n",
    "            \"statefile\" : { \"file\": \"state\" },\n",
    "            \"xtcfile\" : { \"file\": \"traj.xtc\", \"nstep\": nstep_xtc }\n",
    "          },\n",
    "\n",
    "          \"system\" : {\n",
    "              \"temperature\" : 298.15,\n",
    "              \"cylinder\" : { \"length\" : 120, \"radius\" : 50 },\n",
    "              \"mcloop\"   : { \"macro\" : 10, \"micro\" : micro }\n",
    "              }\n",
    "          }\n",
    "    \n",
    "    for name, N in ions.items():\n",
    "        if N>0:\n",
    "            js['moleculelist'][name] = dict(Ninit=N, atomic=True, atoms=name)\n",
    "            if not 'atomtranslate' in js['moves']:\n",
    "                js['moves']['atomtranslate'] = {}\n",
    "            js['moves']['atomtranslate'][name] = dict(peratom=True)\n",
    "\n",
    "    with open('twobody.json', 'w+') as f:\n",
    "        f.write(json.dumps(js, indent=4))\n",
    "        \n",
    "offset=40   # initial COM-COM separation (angstrom)\n",
    "maxdist=500 # maximum allowed COM-COM distance (angstrom)\n",
    "dp=4        # COM translational displacement parameter (angstrom)\n",
    "nstep_xtc=0 # frequency for saving frames to xtc trajectory file"
   ]
  },
  {
   "cell_type": "markdown",
   "metadata": {},
   "source": [
    "## Potential of mean force from histogram method\n",
    "\n",
    "We first calculate the potential of mean force between two neutral spheres by simply sampling the COM-COM distance probability distribution, followed by Boltzmann inversion. Later we can check this result by comparing with PMFs obtained from direct sampling of the mean force from simulations where the particles are kept at fixed positions.\n",
    "\n",
    "The COM's of the two macromolecules are able to translate along a line which coinsides with the axis of a cylindrical simulation cell with hard boundaries. During simulation, the molecules further rotate around their mass centers. Since the molecules in this way are constrained on a line, there is no need to correct for the increasing volume element normally needed for simulations in free space."
   ]
  },
  {
   "cell_type": "code",
   "execution_count": null,
   "metadata": {
    "collapsed": false
   },
   "outputs": [],
   "source": [
    "%cd $workdir/mc\n",
    "\n",
    "if not os.path.isfile('histrdf.dat'):\n",
    "    \n",
    "    xyzfile='sphere-neutral.xyz' # neutral sphere, 600 atoms\n",
    "    offset=50/2.0                # COM offset from origo (center of container)\n",
    "    dp=6                         # protein displacement on line (angstrom)\n",
    "    micro=100                    # number of micro steps (equilibration)\n",
    "    ions={'Na':0}                # we don't want any ions right now\n",
    "    mkinput( ions )              # make json input file for faunus\n",
    "\n",
    "    !rm -fR state                # make sure there's no old state (restart) file\n",
    "    !OMP_NUM_THREADS=4 ../faunus/src/examples/twobody &> eq_hist # eq. run\n",
    "\n",
    "    micro=20000                  # number of micro steps for production\n",
    "    nstep_xtc=200                # save xtc file\n",
    "    mkinput( ions )\n",
    "    !OMP_NUM_THREADS=4 ../faunus/src/examples/twobody > out_hist # production run.\n",
    "    !cp -fR rdf.dat histrdf.dat\n",
    "    nstep_xtc=0                  # disable xtc output for future simulations\n",
    "\n",
    "    print('done.')\n",
    "    \n",
    "# Boltzmann inversion and plot\n",
    "r_hist, g_hist = np.loadtxt('histrdf.dat', unpack=True)\n",
    "w_hist = -np.log( g_hist / g_hist[r_hist>50].mean() )\n",
    "\n",
    "plt.plot(r_hist, w_hist, label='MC, histogram' )\n",
    "plt.xlabel('$R$ (Å)')\n",
    "plt.ylabel('PMF ($k_BT$)')\n",
    "plt.xlim(41, 50)\n",
    "plt.legend(loc=0, frameon=False)\n",
    "\n",
    "print('PMF minimum =', w_hist[r_hist<60].min(), 'kT')"
   ]
  },
  {
   "cell_type": "markdown",
   "metadata": {},
   "source": [
    "### Visualize trajectory (unstable)"
   ]
  },
  {
   "cell_type": "code",
   "execution_count": null,
   "metadata": {
    "collapsed": false
   },
   "outputs": [],
   "source": [
    "import nglview as nv\n",
    "traj = md.load_xtc('traj.xtc', top='confout.pdb')\n",
    "view = nv.show_mdtraj(traj)\n",
    "view.add_spacefill(selection='all')\n",
    "view"
   ]
  },
  {
   "cell_type": "markdown",
   "metadata": {},
   "source": [
    "## Mean force calculation for fixed separations\n",
    "\n",
    "In multivalent electrolyte solution, highly charged ion may \"stick\" to the molecule surface, making translational and rotational moves diffucult (low acceptance). To counter this, we sample the PMF by calculating for mean force on the macro-particles at fixed separations. The PMF is obtained by subsequent integration.\n",
    "\n",
    "An automated setup is used and in the following cell, we create a Pandas structure describing how the simulations should be run and plotted (number of ions, macro-particle structure, colors, etc)."
   ]
  },
  {
   "cell_type": "code",
   "execution_count": null,
   "metadata": {
    "collapsed": false
   },
   "outputs": [],
   "source": [
    "R_range = np.arange(42, 70, 1) # separation space to scan (angstrom)\n",
    "param = pd.DataFrame({\n",
    "    'Neutral' :\n",
    "        dict(\n",
    "            charge=0, xyzfile=workdir+'/mc/sphere-neutral.xyz',\n",
    "            R=R_range, label=r'Neutral', color='black',\n",
    "            ions = dict(Na=0)\n",
    "        ),\n",
    "    'P00-mono' :\n",
    "        dict(\n",
    "            charge=-8, xyzfile=workdir+'/mc/sphere-P00.xyz',\n",
    "            R=R_range, label=r'$P_0^0$ (Na$^+$)', color='blue',\n",
    "            ions = dict(Na=16)\n",
    "        ),\n",
    "    'P00-tri' :\n",
    "        dict(\n",
    "            charge=-8, xyzfile=workdir+'/mc/sphere-P00.xyz',\n",
    "            R=R_range, label=r'$P_0^0$ (La$^{3+}$)', color='green',\n",
    "            ions = dict(La=5, Na=1)\n",
    "    ),\n",
    "    'P18' :\n",
    "        dict(\n",
    "            charge=-8, xyzfile=workdir+'/mc/sphere-P18.xyz',\n",
    "            R=R_range, label=r'$P_8^1$', color='orange',\n",
    "            ions = [ dict(Na=16), dict(La=5, Na=1) ]\n",
    "        )\n",
    "    })\n",
    "param = param.T.drop(labels='P18').T\n",
    "#param = param.T.drop(labels='Neutral').T\n",
    "#param = param.T.drop(labels='P00-tri').T\n",
    "param"
   ]
  },
  {
   "cell_type": "markdown",
   "metadata": {},
   "source": [
    "### Loop over all defined systems and simulate"
   ]
  },
  {
   "cell_type": "code",
   "execution_count": null,
   "metadata": {
    "collapsed": false
   },
   "outputs": [],
   "source": [
    "%%writefile $workdir/mc/submit.sh\n",
    "# This is a submit file, should you be using a cluster\n",
    "#!/bin/bash\n",
    "#SBATCH -N 1\n",
    "#SBATCH -n 1\n",
    "#SBATCH -t 01:00:00\n",
    "../../faunus/src/examples/twobody > out"
   ]
  },
  {
   "cell_type": "code",
   "execution_count": null,
   "metadata": {
    "collapsed": false
   },
   "outputs": [],
   "source": [
    "%cd -q $workdir/mc\n",
    "for particletype, d in param.items(): # 'P00', 'P18', ...\n",
    "\n",
    "        ionstr = ''\n",
    "        for ion, N in d.ions.items(): # salt particles\n",
    "            ionstr = ion+str(N) + ionstr\n",
    "\n",
    "        for R in d.R:  # loop over defined COM-COM separations\n",
    "\n",
    "            directory = particletype + '-' + ionstr + '-R' + str(R)\n",
    "            if not os.path.isdir(directory):\n",
    "                %mkdir $directory\n",
    "            %cd $directory\n",
    "\n",
    "            dp=0           # macromolecules do not move\n",
    "            offset = R/2.0 # initial COM distance from origo\n",
    "            micro=100\n",
    "            xyzfile = d.xyzfile\n",
    "            mkinput( d.ions )\n",
    "\n",
    "            !rm -fR state\n",
    "            !OMP_NUM_THREADS=4 nice ../../faunus/src/examples/twobody &> eq # equilibration\n",
    "\n",
    "            micro=1000     # number of micro steps in production\n",
    "            mkinput( d.ions )\n",
    "\n",
    "            if shutil.which('sbatch') is not None: # run on slurm cluster...\n",
    "                !sbatch ../submit.sh\n",
    "            else:                                  # ...or locally (slow) ?\n",
    "                !OMP_NUM_THREADS=4 ../../faunus/src/examples/twobody > out\n",
    "\n",
    "            %cd -q ..\n",
    "print('done.')"
   ]
  },
  {
   "cell_type": "markdown",
   "metadata": {},
   "source": [
    "### Collect; analyse; and plot data"
   ]
  },
  {
   "cell_type": "code",
   "execution_count": null,
   "metadata": {
    "collapsed": false
   },
   "outputs": [],
   "source": [
    "%cd -q $workdir/mc\n",
    "for particletype, d in param.items(): # 'P00', 'P18', ...\n",
    "    \n",
    "        ionstr = ''\n",
    "        for ion, N in d.ions.items(): # loop over all ion conditions\n",
    "            ionstr = ion+str(N) + ionstr\n",
    "\n",
    "        F = []         # mean force vs. distance\n",
    "        for R in d.R:  # loop over defined COM-COM separations\n",
    "\n",
    "            directory = particletype + '-' + ionstr + '-R' + str(R)\n",
    "            if os.path.isdir(directory):\n",
    "                %cd -q $directory\n",
    "                with open('analysis_out.json') as file:    # simulation analysis is saved here...\n",
    "                    j = json.load(file)['Mean force']['meanforce']\n",
    "                    mf = np.array( j ).mean() # mean force on group 1 and 2\n",
    "                    F.append( [R,mf]  )\n",
    "\n",
    "                %cd -q ..\n",
    "\n",
    "        r, f = np.array(F).T                      # r=distance (angstrom), f=mean force (kT/angstrom)\n",
    "        w = integrate.cumtrapz( f, r, initial=0 ) # integrate force --> potential of mean force, w\n",
    "        plt.plot(r, w-w[-1], label=d.label, color=d.color)\n",
    "\n",
    "plt.plot(r_hist, w_hist, 'k--', ms=3, label='Neutral, histogram')\n",
    "plt.legend(loc=0, frameon=False)\n",
    "plt.xlabel('$R$ (Å)')\n",
    "plt.ylabel('PMF ($k_BT$)')\n",
    "plt.xlim(42,70)"
   ]
  },
  {
   "cell_type": "code",
   "execution_count": null,
   "metadata": {
    "collapsed": true
   },
   "outputs": [],
   "source": []
  }
 ],
 "metadata": {
  "anaconda-cloud": {},
  "kernelspec": {
   "display_name": "Python [conda root]",
   "language": "python",
   "name": "conda-root-py"
  },
  "language_info": {
   "codemirror_mode": {
    "name": "ipython",
    "version": 3
   },
   "file_extension": ".py",
   "mimetype": "text/x-python",
   "name": "python",
   "nbconvert_exporter": "python",
   "pygments_lexer": "ipython3",
   "version": "3.5.2"
  }
 },
 "nbformat": 4,
 "nbformat_minor": 1
}
